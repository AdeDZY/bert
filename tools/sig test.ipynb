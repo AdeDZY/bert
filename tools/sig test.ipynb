{
 "cells": [
  {
   "cell_type": "code",
   "execution_count": 1,
   "metadata": {},
   "outputs": [],
   "source": [
    "import numpy as np\n",
    "import random\n",
    "use_metrics = [\"map\", \"P_5\", \"P_10\", \"P_20\", \"ndcg_cut_5\", \"ndcg_cut_10\", \"ndcg_cut_20\"]\n"
   ]
  },
  {
   "cell_type": "code",
   "execution_count": 2,
   "metadata": {},
   "outputs": [],
   "source": [
    "def randomization_test(l_target, l_base):\n",
    "    total_test = 5000\n",
    "    diff = sum(l_target) / float(len(l_target)) - sum(l_base) / float(len(l_base))\n",
    "    cnt = 0.0\n",
    "    for i in range(total_test):\n",
    "        l_a, l_b = random_swap(l_target, l_base)\n",
    "        this_diff = sum(l_a) / float(len(l_a)) - sum(l_b) / float(len(l_b))\n",
    "        if this_diff > diff:\n",
    "            cnt += 1.0\n",
    "    p = cnt / float(total_test)\n",
    "    return p\n",
    "\n",
    "\n",
    "def random_swap(l_target, l_base):\n",
    "    l_a = list(l_target)\n",
    "    l_b = list(l_base)\n",
    "\n",
    "    for i in range(len(l_target)):\n",
    "        if random.randint(0, 1):\n",
    "            l_a[i], l_b[i] = l_b[i],l_a[i]\n",
    "    return l_a, l_b\n",
    "\n",
    "\n",
    "def win_tie_loss(l_target, l_base):\n",
    "    assert len(l_target) == len(l_base)\n",
    "    win, tie, loss = 0, 0, 0\n",
    "    l_a = [round(a, 3) for a in l_target]\n",
    "    l_b = [round(b, 3) for b in l_base]\n",
    "    l_ab = list(zip(l_a, l_b))\n",
    "    win = sum([int(a > b) for a, b in l_ab])\n",
    "    tie = sum([int(a == b) for a, b in l_ab])\n",
    "    loss = sum([int(a < b) for a, b in l_ab])\n",
    "    assert win + tie + loss == len(l_target)\n",
    "\n",
    "    return win, tie, loss\n"
   ]
  },
  {
   "cell_type": "code",
   "execution_count": 3,
   "metadata": {},
   "outputs": [],
   "source": [
    "def read_trec_qeval(file_path):\n",
    "    per_query_results = {}\n",
    "    average_results = {}\n",
    "    for line in open(file_path):\n",
    "        metric, qid, score = line.strip().split('\\t')\n",
    "        metric = metric.strip()\n",
    "        if metric not in use_metrics:\n",
    "            continue\n",
    "        if 'all' in qid:\n",
    "            average_results[metric] = float(score)\n",
    "        else:\n",
    "            qid = int(qid)\n",
    "            if qid not in per_query_results:\n",
    "                per_query_results[qid] = {}\n",
    "            per_query_results[qid][metric] = float(score)\n",
    "    return per_query_results, average_results\n",
    "        \n",
    "    "
   ]
  },
  {
   "cell_type": "code",
   "execution_count": 25,
   "metadata": {},
   "outputs": [],
   "source": [
    "per_query_results_run1, average_results_run1 = read_trec_qeval(\"/tmp2/results/clueweb09/bing5120k-title-first200.trec.qeval\")"
   ]
  },
  {
   "cell_type": "code",
   "execution_count": 26,
   "metadata": {},
   "outputs": [],
   "source": [
    "per_query_results_run2, average_results_run2 = read_trec_qeval(\"/tmp2/results/clueweb09/bing2560k-title-first200.trec.qeval\")"
   ]
  },
  {
   "cell_type": "code",
   "execution_count": 27,
   "metadata": {},
   "outputs": [],
   "source": [
    "qids = set(per_query_results_run1.keys()) & set(per_query_results_run2.keys())"
   ]
  },
  {
   "cell_type": "code",
   "execution_count": 28,
   "metadata": {},
   "outputs": [
    {
     "name": "stdout",
     "output_type": "stream",
     "text": [
      "map 0.18 0.188 1.0 64 31 103\n",
      "P_5 0.433 0.466 0.9918 26 132 40\n",
      "P_10 0.41 0.433 0.9936 40 106 52\n",
      "P_20 0.357 0.372 0.9954 34 109 55\n",
      "ndcg_cut_5 0.319 0.349 0.9948 37 97 64\n",
      "ndcg_cut_10 0.317 0.342 0.9958 49 67 82\n",
      "ndcg_cut_20 0.314 0.333 1.0 57 43 98\n"
     ]
    }
   ],
   "source": [
    "\n",
    "for metric in use_metrics:\n",
    "    l_scores_run1 = [per_query_results_run1[qid][metric] for qid in qids]\n",
    "    l_scores_run2 = [per_query_results_run2[qid][metric] for qid in qids]\n",
    "\n",
    "    p = randomization_test(l_scores_run1, l_scores_run2)\n",
    "    win, tie, loss = win_tie_loss(l_scores_run1, l_scores_run2)\n",
    "\n",
    "    print(metric, round(np.mean(l_scores_run1),3), round(np.mean(l_scores_run2),3), p, win, tie, loss)\n"
   ]
  },
  {
   "cell_type": "code",
   "execution_count": null,
   "metadata": {},
   "outputs": [],
   "source": []
  }
 ],
 "metadata": {
  "kernelspec": {
   "display_name": "Python 3",
   "language": "python",
   "name": "python3"
  },
  "language_info": {
   "codemirror_mode": {
    "name": "ipython",
    "version": 3
   },
   "file_extension": ".py",
   "mimetype": "text/x-python",
   "name": "python",
   "nbconvert_exporter": "python",
   "pygments_lexer": "ipython3",
   "version": "3.5.6"
  }
 },
 "nbformat": 4,
 "nbformat_minor": 2
}
